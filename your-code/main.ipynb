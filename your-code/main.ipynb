{
  "cells": [
    {
      "cell_type": "markdown",
      "metadata": {
        "id": "-_Zr_qBG1mxF"
      },
      "source": [
        "# Introduction to Pandas\n",
        "\n",
        "Complete the following set of exercises to solidify your knowledge of Pandas fundamentals."
      ]
    },
    {
      "cell_type": "markdown",
      "metadata": {
        "id": "zobe1oWt1mxI"
      },
      "source": [
        "#### 1. Import Numpy and Pandas and alias them to `np` and `pd` respectively."
      ]
    },
    {
      "cell_type": "code",
      "execution_count": 1,
      "metadata": {
        "id": "yyUpTiYF1mxJ"
      },
      "outputs": [],
      "source": [
        "# your code here\n",
        "import numpy as np\n",
        "import pandas as pd"
      ]
    },
    {
      "cell_type": "markdown",
      "metadata": {
        "id": "ubd-VFk81mxK"
      },
      "source": [
        "#### 2. Create a Pandas Series containing the elements of the list below."
      ]
    },
    {
      "cell_type": "code",
      "execution_count": 2,
      "metadata": {
        "id": "3ZTHT64v1mxK"
      },
      "outputs": [],
      "source": [
        "lst = [5.7, 75.2, 74.4, 84.0, 66.5, 66.3, 55.8, 75.7, 29.1, 43.7]"
      ]
    },
    {
      "cell_type": "code",
      "execution_count": 3,
      "metadata": {
        "id": "lN-WUYgU1mxL"
      },
      "outputs": [],
      "source": [
        "# your code here\n",
        "serie1 = pd.Series(lst)"
      ]
    },
    {
      "cell_type": "markdown",
      "metadata": {
        "id": "GtYNsR0v1mxL"
      },
      "source": [
        "#### 3. Use indexing to return the third value in the Series above.\n",
        "\n",
        "*Hint: Remember that indexing begins at 0.*"
      ]
    },
    {
      "cell_type": "code",
      "execution_count": 18,
      "metadata": {
        "colab": {
          "base_uri": "https://localhost:8080/"
        },
        "id": "eWgy9epW1mxL",
        "outputId": "00335920-9dde-4550-c02e-cb075dc573dc"
      },
      "outputs": [
        {
          "output_type": "execute_result",
          "data": {
            "text/plain": [
              "74.4"
            ]
          },
          "metadata": {},
          "execution_count": 18
        }
      ],
      "source": [
        "# your code here\n",
        "serie1[2]\n"
      ]
    },
    {
      "cell_type": "markdown",
      "metadata": {
        "id": "QLGTKEiZ1mxM"
      },
      "source": [
        "#### 4. Create a Pandas DataFrame from the list of lists below. Each sublist should be represented as a row."
      ]
    },
    {
      "cell_type": "code",
      "execution_count": 9,
      "metadata": {
        "id": "BS4Pc56N1mxM"
      },
      "outputs": [],
      "source": [
        "b = [[53.1, 95.0, 67.5, 35.0, 78.4],\n",
        "     [61.3, 40.8, 30.8, 37.8, 87.6],\n",
        "     [20.6, 73.2, 44.2, 14.6, 91.8],\n",
        "     [57.4, 0.1, 96.1, 4.2, 69.5],\n",
        "     [83.6, 20.5, 85.4, 22.8, 35.9],\n",
        "     [49.0, 69.0, 0.1, 31.8, 89.1],\n",
        "     [23.3, 40.7, 95.0, 83.8, 26.9],\n",
        "     [27.6, 26.4, 53.8, 88.8, 68.5],\n",
        "     [96.6, 96.4, 53.4, 72.4, 50.1],\n",
        "     [73.7, 39.0, 43.2, 81.6, 34.7]]"
      ]
    },
    {
      "cell_type": "code",
      "execution_count": 11,
      "metadata": {
        "colab": {
          "base_uri": "https://localhost:8080/"
        },
        "id": "Djdl-nPF1mxN",
        "outputId": "cef2b7da-1906-4e59-c82f-40ec0c49a942"
      },
      "outputs": [
        {
          "output_type": "stream",
          "name": "stdout",
          "text": [
            "      0     1     2     3     4\n",
            "0  53.1  95.0  67.5  35.0  78.4\n",
            "1  61.3  40.8  30.8  37.8  87.6\n",
            "2  20.6  73.2  44.2  14.6  91.8\n",
            "3  57.4   0.1  96.1   4.2  69.5\n",
            "4  83.6  20.5  85.4  22.8  35.9\n",
            "5  49.0  69.0   0.1  31.8  89.1\n",
            "6  23.3  40.7  95.0  83.8  26.9\n",
            "7  27.6  26.4  53.8  88.8  68.5\n",
            "8  96.6  96.4  53.4  72.4  50.1\n",
            "9  73.7  39.0  43.2  81.6  34.7\n"
          ]
        }
      ],
      "source": [
        "# your code here\n",
        "dataframe1 = df3 = pd.DataFrame(b, index = [\"0\", \"1\", \"2\", \"3\", \"4\", \"5\", \"6\", \"7\", \"8\", \"9\"])\n",
        "\n",
        "print (dataframe1)"
      ]
    },
    {
      "cell_type": "markdown",
      "metadata": {
        "id": "7Kqru4OB1mxN"
      },
      "source": [
        "#### 5. Rename the data frame columns based on the names in the list below."
      ]
    },
    {
      "cell_type": "code",
      "execution_count": 12,
      "metadata": {
        "id": "j70nBk6Y1mxN"
      },
      "outputs": [],
      "source": [
        "colnames = ['Score_1', 'Score_2', 'Score_3', 'Score_4', 'Score_5']"
      ]
    },
    {
      "cell_type": "code",
      "execution_count": 15,
      "metadata": {
        "colab": {
          "base_uri": "https://localhost:8080/"
        },
        "id": "loHeQZJL1mxN",
        "outputId": "c64e83c4-4433-49e9-c54d-053492dc1a94"
      },
      "outputs": [
        {
          "output_type": "stream",
          "name": "stdout",
          "text": [
            "   Score_1  Score_2  Score_3  Score_4  Score_5\n",
            "0     53.1     95.0     67.5     35.0     78.4\n",
            "1     61.3     40.8     30.8     37.8     87.6\n",
            "2     20.6     73.2     44.2     14.6     91.8\n",
            "3     57.4      0.1     96.1      4.2     69.5\n",
            "4     83.6     20.5     85.4     22.8     35.9\n",
            "5     49.0     69.0      0.1     31.8     89.1\n",
            "6     23.3     40.7     95.0     83.8     26.9\n",
            "7     27.6     26.4     53.8     88.8     68.5\n",
            "8     96.6     96.4     53.4     72.4     50.1\n",
            "9     73.7     39.0     43.2     81.6     34.7\n"
          ]
        }
      ],
      "source": [
        "# your code here\n",
        "dataframe1.columns = colnames\n",
        "\n",
        "print (dataframe1)"
      ]
    },
    {
      "cell_type": "markdown",
      "metadata": {
        "id": "_Bf0xRWQ1mxO"
      },
      "source": [
        "#### 6. Create a subset of this data frame that contains only the Score 1, 3, and 5 columns."
      ]
    },
    {
      "cell_type": "code",
      "execution_count": 17,
      "metadata": {
        "colab": {
          "base_uri": "https://localhost:8080/"
        },
        "id": "VDxjCFMU1mxO",
        "outputId": "18ea0878-e54a-4c66-aabc-8bc8d21129cc"
      },
      "outputs": [
        {
          "output_type": "stream",
          "name": "stdout",
          "text": [
            "   Score_1  Score_3  Score_5\n",
            "0     53.1     67.5     78.4\n",
            "1     61.3     30.8     87.6\n",
            "2     20.6     44.2     91.8\n",
            "3     57.4     96.1     69.5\n",
            "4     83.6     85.4     35.9\n",
            "5     49.0      0.1     89.1\n",
            "6     23.3     95.0     26.9\n",
            "7     27.6     53.8     68.5\n",
            "8     96.6     53.4     50.1\n",
            "9     73.7     43.2     34.7\n"
          ]
        }
      ],
      "source": [
        "# your code here\n",
        "subset1 = dataframe1[[\"Score_1\", \"Score_3\", \"Score_5\"]]\n",
        "\n",
        "print (subset1)"
      ]
    },
    {
      "cell_type": "markdown",
      "metadata": {
        "id": "Z9csDx3y1mxO"
      },
      "source": [
        "#### 7. From the original data frame, calculate the average Score_3 value."
      ]
    },
    {
      "cell_type": "code",
      "execution_count": 20,
      "metadata": {
        "colab": {
          "base_uri": "https://localhost:8080/"
        },
        "id": "5hdhgzsk1mxP",
        "outputId": "7f0b9c92-9e47-4cc3-8a44-74ffec0a2b95"
      },
      "outputs": [
        {
          "output_type": "execute_result",
          "data": {
            "text/plain": [
              "56.95000000000001"
            ]
          },
          "metadata": {},
          "execution_count": 20
        }
      ],
      "source": [
        "# your code here\n",
        "dataframe1['Score_3'].mean()"
      ]
    },
    {
      "cell_type": "markdown",
      "metadata": {
        "id": "1sv8P9ps1mxP"
      },
      "source": [
        "#### 8. From the original data frame, calculate the maximum Score_4 value."
      ]
    },
    {
      "cell_type": "code",
      "execution_count": 21,
      "metadata": {
        "colab": {
          "base_uri": "https://localhost:8080/"
        },
        "id": "ZXWh5XMV1mxP",
        "outputId": "efd06614-f777-4fd5-ca2b-cac8ced978a0"
      },
      "outputs": [
        {
          "output_type": "execute_result",
          "data": {
            "text/plain": [
              "96.1"
            ]
          },
          "metadata": {},
          "execution_count": 21
        }
      ],
      "source": [
        "# your code here\n",
        "dataframe1['Score_3'].max()"
      ]
    },
    {
      "cell_type": "markdown",
      "metadata": {
        "id": "iqqO-b3x1mxQ"
      },
      "source": [
        "#### 9. From the original data frame, calculate the median Score 2 value."
      ]
    },
    {
      "cell_type": "code",
      "execution_count": 22,
      "metadata": {
        "colab": {
          "base_uri": "https://localhost:8080/"
        },
        "id": "KvlsvJdM1mxQ",
        "outputId": "9d20c03b-7f36-4e43-9e73-c1766500ea20"
      },
      "outputs": [
        {
          "output_type": "execute_result",
          "data": {
            "text/plain": [
              "53.599999999999994"
            ]
          },
          "metadata": {},
          "execution_count": 22
        }
      ],
      "source": [
        "# your code here\n",
        "dataframe1['Score_3'].median()"
      ]
    },
    {
      "cell_type": "markdown",
      "metadata": {
        "id": "3yVwXswb1mxQ"
      },
      "source": [
        "#### 10. Create a Pandas DataFrame from the dictionary of product orders below."
      ]
    },
    {
      "cell_type": "code",
      "execution_count": 23,
      "metadata": {
        "id": "Ad3yb26a1mxQ"
      },
      "outputs": [],
      "source": [
        "orders = {'Description': ['LUNCH BAG APPLE DESIGN',\n",
        "  'SET OF 60 VINTAGE LEAF CAKE CASES ',\n",
        "  'RIBBON REEL STRIPES DESIGN ',\n",
        "  'WORLD WAR 2 GLIDERS ASSTD DESIGNS',\n",
        "  'PLAYING CARDS JUBILEE UNION JACK',\n",
        "  'POPCORN HOLDER',\n",
        "  'BOX OF VINTAGE ALPHABET BLOCKS',\n",
        "  'PARTY BUNTING',\n",
        "  'JAZZ HEARTS ADDRESS BOOK',\n",
        "  'SET OF 4 SANTA PLACE SETTINGS'],\n",
        " 'Quantity': [1, 24, 1, 2880, 2, 7, 1, 4, 10, 48],\n",
        " 'UnitPrice': [1.65, 0.55, 1.65, 0.18, 1.25, 0.85, 11.95, 4.95, 0.19, 1.25],\n",
        " 'Revenue': [1.65, 13.2, 1.65, 518.4, 2.5, 5.95, 11.95, 19.8, 1.9, 60.0]}"
      ]
    },
    {
      "cell_type": "code",
      "execution_count": 28,
      "metadata": {
        "colab": {
          "base_uri": "https://localhost:8080/"
        },
        "id": "pfQMSoKA1mxR",
        "outputId": "0f952fd1-4259-4760-fc80-94ee2bff7def"
      },
      "outputs": [
        {
          "output_type": "stream",
          "name": "stdout",
          "text": [
            "                          Description  Quantity  UnitPrice  Revenue\n",
            "0              LUNCH BAG APPLE DESIGN         1       1.65     1.65\n",
            "1  SET OF 60 VINTAGE LEAF CAKE CASES         24       0.55    13.20\n",
            "2         RIBBON REEL STRIPES DESIGN          1       1.65     1.65\n",
            "3   WORLD WAR 2 GLIDERS ASSTD DESIGNS      2880       0.18   518.40\n",
            "4    PLAYING CARDS JUBILEE UNION JACK         2       1.25     2.50\n",
            "5                      POPCORN HOLDER         7       0.85     5.95\n",
            "6      BOX OF VINTAGE ALPHABET BLOCKS         1      11.95    11.95\n",
            "7                       PARTY BUNTING         4       4.95    19.80\n",
            "8            JAZZ HEARTS ADDRESS BOOK        10       0.19     1.90\n",
            "9       SET OF 4 SANTA PLACE SETTINGS        48       1.25    60.00\n"
          ]
        }
      ],
      "source": [
        "# your code here\n",
        "dataframe2 = pd.DataFrame(orders)\n",
        "\n",
        "print (dataframe2)"
      ]
    },
    {
      "cell_type": "markdown",
      "metadata": {
        "id": "GZ6s7DVt1mxR"
      },
      "source": [
        "#### 11. Calculate the total quantity ordered and revenue generated from these orders."
      ]
    },
    {
      "cell_type": "code",
      "execution_count": 52,
      "metadata": {
        "colab": {
          "base_uri": "https://localhost:8080/"
        },
        "id": "s4STkOEo1mxR",
        "outputId": "6b9a1617-eba4-431e-c6a8-7184d65fcf5f"
      },
      "outputs": [
        {
          "output_type": "stream",
          "name": "stdout",
          "text": [
            "2978\n",
            "637.0\n"
          ]
        }
      ],
      "source": [
        "# your code here\n",
        "unidades = dataframe2[\"Quantity\"].sum()\n",
        "print (unidades)\n",
        "\n",
        "ingresos = dataframe2[\"Revenue\"].sum()\n",
        "print (ingresos)\n",
        "\n",
        "\n"
      ]
    },
    {
      "cell_type": "markdown",
      "metadata": {
        "id": "IFkuznA01mxR"
      },
      "source": [
        "#### 12. Obtain the prices of the most expensive and least expensive items ordered and print the difference."
      ]
    },
    {
      "cell_type": "code",
      "execution_count": 51,
      "metadata": {
        "colab": {
          "base_uri": "https://localhost:8080/"
        },
        "id": "x6pU59jY1mxR",
        "outputId": "8d1c773d-7d40-408e-a16d-a93216c660a1"
      },
      "outputs": [
        {
          "output_type": "stream",
          "name": "stdout",
          "text": [
            "11.95\n",
            "0.18\n",
            "11.77\n"
          ]
        }
      ],
      "source": [
        "# your code here\n",
        "\n",
        "maximo = dataframe2['UnitPrice'].max()\n",
        "minimo = dataframe2['UnitPrice'].min()\n",
        "\n",
        "print(maximo)\n",
        "print(minimo)\n",
        "\n",
        "diferencia = maximo - minimo\n",
        "print(diferencia)\n",
        "\n"
      ]
    }
  ],
  "metadata": {
    "kernelspec": {
      "display_name": "Python 3",
      "language": "python",
      "name": "python3"
    },
    "language_info": {
      "codemirror_mode": {
        "name": "ipython",
        "version": 3
      },
      "file_extension": ".py",
      "mimetype": "text/x-python",
      "name": "python",
      "nbconvert_exporter": "python",
      "pygments_lexer": "ipython3",
      "version": "3.7.2"
    },
    "colab": {
      "name": "main.ipynb",
      "provenance": []
    }
  },
  "nbformat": 4,
  "nbformat_minor": 0
}